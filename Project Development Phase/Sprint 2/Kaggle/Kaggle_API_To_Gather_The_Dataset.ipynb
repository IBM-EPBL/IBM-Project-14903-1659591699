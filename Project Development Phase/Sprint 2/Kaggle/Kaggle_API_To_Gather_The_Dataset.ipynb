{
  "cells": [
    {
      "cell_type": "code",
      "execution_count": 1,
      "metadata": {
        "id": "xhPjTO6_4J54"
      },
      "outputs": [],
      "source": [
        "!pip install -q kaggle"
      ]
    },
    {
      "cell_type": "code",
      "execution_count": 2,
      "metadata": {
        "id": "E5h7GXbx4Kxq"
      },
      "outputs": [],
      "source": [
        "!mkdir ~/.kaggle # creating a kaggle directory"
      ]
    },
    {
      "cell_type": "code",
      "execution_count": 10,
      "metadata": {
        "id": "cKivbil04PAL"
      },
      "outputs": [],
      "source": [
        "!cp kaggle.json ~/.kaggle/  # copying json file to folder"
      ]
    },
    {
      "cell_type": "code",
      "execution_count": 11,
      "metadata": {
        "colab": {
          "base_uri": "https://localhost:8080/",
          "height": 36
        },
        "id": "don49Vj24ZV2",
        "outputId": "ff9e2fda-4abe-4284-efa8-02786a213002"
      },
      "outputs": [
        {
          "output_type": "execute_result",
          "data": {
            "text/plain": [
              "'/content'"
            ],
            "application/vnd.google.colaboratory.intrinsic+json": {
              "type": "string"
            }
          },
          "metadata": {},
          "execution_count": 11
        }
      ],
      "source": [
        "pwd"
      ]
    },
    {
      "cell_type": "code",
      "execution_count": 12,
      "metadata": {
        "id": "w-BesR6s4auP"
      },
      "outputs": [],
      "source": [
        "!chmod 600 ~/.kaggle/kaggle.json  # changing the permissions to json"
      ]
    },
    {
      "cell_type": "code",
      "execution_count": 13,
      "metadata": {
        "colab": {
          "base_uri": "https://localhost:8080/"
        },
        "id": "BiwcWcLA4e-N",
        "outputId": "8d105593-5bf0-43e4-c007-f96d2769c78a"
      },
      "outputs": [
        {
          "output_type": "stream",
          "name": "stdout",
          "text": [
            "Downloading global-sales-data-analytics.zip to /content\n",
            "\r  0% 0.00/11.1M [00:00<?, ?B/s]\r 45% 5.00M/11.1M [00:00<00:00, 32.4MB/s]\n",
            "\r100% 11.1M/11.1M [00:00<00:00, 62.0MB/s]\n"
          ]
        }
      ],
      "source": [
        "!kaggle datasets download -d skeerthivasan/global-sales-data-analytics"
      ]
    },
    {
      "cell_type": "code",
      "execution_count": 14,
      "metadata": {
        "colab": {
          "base_uri": "https://localhost:8080/"
        },
        "id": "DEMUh9Er4mHb",
        "outputId": "da9d1ed9-d34f-4b7f-922b-1b686cf67023"
      },
      "outputs": [
        {
          "output_type": "stream",
          "name": "stdout",
          "text": [
            "Archive:  /content/global-sales-data-analytics.zip\n",
            "  inflating: Global_Superstore2.csv  \n",
            "  inflating: Global_Superstore2.xlsx  \n"
          ]
        }
      ],
      "source": [
        "!unzip /content/global-sales-data-analytics.zip"
      ]
    }
  ],
  "metadata": {
    "colab": {
      "provenance": []
    },
    "kernelspec": {
      "display_name": "Python 3 (ipykernel)",
      "language": "python",
      "name": "python3"
    },
    "language_info": {
      "codemirror_mode": {
        "name": "ipython",
        "version": 3
      },
      "file_extension": ".py",
      "mimetype": "text/x-python",
      "name": "python",
      "nbconvert_exporter": "python",
      "pygments_lexer": "ipython3",
      "version": "3.9.12"
    }
  },
  "nbformat": 4,
  "nbformat_minor": 0
}